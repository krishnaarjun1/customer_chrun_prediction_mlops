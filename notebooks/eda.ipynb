{
 "cells": [
  {
   "cell_type": "code",
   "execution_count": null,
   "id": "d7ac59c5",
   "metadata": {},
   "outputs": [],
   "source": [
    "# EDA Notebook: notebooks/eda.ipynb\n",
    "\n",
    "import pandas as pd\n",
    "import seaborn as sns\n",
    "import matplotlib.pyplot as plt\n",
    "\n",
    "# Load the dataset\n",
    "df = pd.read_csv(\"data/raw/customer_churn_dataset-testing-master.csv\")\n",
    "\n",
    "# Basic info\n",
    "print(df.head())\n",
    "print(df.info())\n",
    "print(df.describe())\n",
    "\n",
    "# Churn distribution\n",
    "sns.countplot(data=df, x=\"Churn\")\n",
    "plt.title(\"Churn Count\")\n",
    "plt.show()\n",
    "\n",
    "# Churn by Gender\n",
    "sns.countplot(data=df, x=\"Gender\", hue=\"Churn\")\n",
    "plt.title(\"Churn by Gender\")\n",
    "plt.show()\n",
    "\n",
    "# Correlation heatmap\n",
    "corr = df.corr(numeric_only=True)\n",
    "sns.heatmap(corr, annot=True, cmap=\"coolwarm\")\n",
    "plt.title(\"Feature Correlation\")\n",
    "plt.show()\n"
   ]
  }
 ],
 "metadata": {
  "kernelspec": {
   "display_name": "Python 3",
   "language": "python",
   "name": "python3"
  },
  "language_info": {
   "name": "python",
   "version": "3.12.0"
  }
 },
 "nbformat": 4,
 "nbformat_minor": 5
}
